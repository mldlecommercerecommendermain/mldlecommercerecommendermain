{
 "cells": [
  {
   "cell_type": "code",
   "execution_count": 6,
   "id": "a2a23757",
   "metadata": {},
   "outputs": [
    {
     "name": "stdout",
     "output_type": "stream",
     "text": [
      "Veri Setindeki İlk 5 Satır:\n",
      "    uye_id  urun_id           eklenme_tarihi  puan   event_type\n",
      "0        0    72176  2024-08-05 05:43:02.000     1         view\n",
      "1        0    67714  2024-08-05 05:45:51.000     5     purchase\n",
      "2        0    66060  2024-08-05 05:53:56.000     4  add_to_cart\n",
      "3  1659156    60388  2024-08-05 06:01:07.000     1         view\n",
      "4        0    41669  2024-08-05 06:04:45.000     5     purchase\n",
      "\n",
      "\n"
     ]
    }
   ],
   "source": [
    "import pandas as pd\n",
    "import numpy as np\n",
    "import random\n",
    "\n",
    "# 1. Veriyi pkl dosyasından yükle\n",
    "file_path = 'hazirlanmis_etkilesim.pkl'\n",
    "data = pd.read_pickle(file_path)\n",
    "\n",
    "# İlk birkaç satırı görüntüle\n",
    "print(\"Veri Setindeki İlk 5 Satır:\")\n",
    "print(data.head())\n",
    "\n",
    "print(\"\\n\")\n"
   ]
  },
  {
   "cell_type": "code",
   "execution_count": 7,
   "id": "cca5e70b",
   "metadata": {},
   "outputs": [
    {
     "name": "stdout",
     "output_type": "stream",
     "text": [
      "Ürün ID 72176 için önerilen ürün ID: 73914\n"
     ]
    },
    {
     "name": "stderr",
     "output_type": "stream",
     "text": [
      "C:\\Users\\ckasikci\\AppData\\Local\\anaconda3\\Lib\\site-packages\\sklearn\\base.py:464: UserWarning: X does not have valid feature names, but RandomForestClassifier was fitted with feature names\n",
      "  warnings.warn(\n"
     ]
    }
   ],
   "source": [
    "import pandas as pd\n",
    "from sklearn.ensemble import RandomForestClassifier\n",
    "from sklearn.model_selection import train_test_split\n",
    "\n",
    "# Birlikte alınan ürünleri belirlemek için kullanıcı üzerinden grup oluşturma\n",
    "data['birlikte_urun_id'] = data.groupby('uye_id')['urun_id'].shift(-1)\n",
    "\n",
    "# Sadece geçerli eşleşmelerin olduğu satırları tut\n",
    "data = data.dropna()\n",
    "# Kendisiyle ilişkili ürünleri çıkar\n",
    "data = data[data['urun_id'] != data['birlikte_urun_id']]\n",
    "data['birlikte_urun_id'] = data['birlikte_urun_id'].astype(int)\n",
    "\n",
    "# Özellikler ve hedef\n",
    "X = data[['urun_id']]  # Sadece ürün ID'yi kullanıyoruz\n",
    "y = data['birlikte_urun_id']  # Tahmin edilmesi gereken birlikte ürün ID\n",
    "\n",
    "# Eğitim ve test verisine ayırma\n",
    "X_train, X_test, y_train, y_test = train_test_split(X, y, test_size=0.2, random_state=42)\n",
    "\n",
    "# Random Forest Modeli\n",
    "rf = RandomForestClassifier(n_estimators=100, random_state=42)\n",
    "rf.fit(X_train, y_train)\n",
    "\n",
    "# Örnek bir ürün ID ile tahmin yapma\n",
    "example_product_id = [[72176]]  # Örnek ürün ID\n",
    "predicted_product_id = rf.predict(example_product_id)\n",
    "\n",
    "print(f\"Ürün ID {example_product_id[0][0]} için önerilen ürün ID: {predicted_product_id[0]}\")"
   ]
  },
  {
   "cell_type": "code",
   "execution_count": 14,
   "id": "98bf0053",
   "metadata": {
    "scrolled": true
   },
   "outputs": [
    {
     "name": "stdout",
     "output_type": "stream",
     "text": [
      "Catalog Coverage (CC): 0.2395\n"
     ]
    }
   ],
   "source": [
    "def calculate_cc(recommendations, product_pool):\n",
    "    # Önerilen benzersiz ürünler\n",
    "    recommended_items = set(recommendations)\n",
    "    \n",
    "    # CC Hesaplama\n",
    "    coverage = len(recommended_items) / len(product_pool)\n",
    "    return coverage\n",
    "\n",
    "# Veri setindeki tüm ürünler\n",
    "product_pool = data['urun_id'].unique()\n",
    "\n",
    "# Test seti için tahminler\n",
    "recommendations = rf.predict(X_test)\n",
    "\n",
    "# Catalog Coverage hesapla\n",
    "cc_score = calculate_cc(recommendations, product_pool)\n",
    "print(f\"Catalog Coverage (CC): {cc_score:.4f}\")\n",
    "\n"
   ]
  },
  {
   "cell_type": "code",
   "execution_count": 15,
   "id": "5973fcba",
   "metadata": {},
   "outputs": [
    {
     "name": "stdout",
     "output_type": "stream",
     "text": [
      "y_test_encoded formatı: <class 'pandas.core.frame.DataFrame'>, boyut: (29930, 3130)\n"
     ]
    }
   ],
   "source": [
    "import pandas as pd\n",
    "\n",
    "# y_test'i one-hot encode yap\n",
    "y_test_encoded = pd.get_dummies(y_test).reindex(columns=rf.classes_, fill_value=0)\n",
    "print(f\"y_test_encoded formatı: {type(y_test_encoded)}, boyut: {y_test_encoded.shape}\")\n",
    "\n"
   ]
  },
  {
   "cell_type": "code",
   "execution_count": 16,
   "id": "2abbaa82",
   "metadata": {},
   "outputs": [
    {
     "name": "stdout",
     "output_type": "stream",
     "text": [
      "Mean Predictive Score (MPS): 0.3360\n"
     ]
    }
   ],
   "source": [
    "from sklearn.metrics import accuracy_score\n",
    "\n",
    "def calculate_mps(y_true, y_pred):\n",
    "\n",
    "    # Doğru tahmin oranını hesapla\n",
    "    mps = accuracy_score(y_true, y_pred)\n",
    "    return mps\n",
    "# Test veri seti üzerinde tahmin yap\n",
    "y_pred = rf.predict(X_test)\n",
    "\n",
    "# MPS hesapla\n",
    "mps_score = calculate_mps(y_test, y_pred)\n",
    "print(f\"Mean Predictive Score (MPS): {mps_score:.4f}\")\n"
   ]
  },
  {
   "cell_type": "code",
   "execution_count": 17,
   "id": "13234f9e",
   "metadata": {},
   "outputs": [
    {
     "name": "stdout",
     "output_type": "stream",
     "text": [
      "Mean Novelty Score (MNS): 3.8969\n"
     ]
    }
   ],
   "source": [
    "import numpy as np\n",
    "\n",
    "def calculate_mns(data, model, X_test):\n",
    "\n",
    "    # 1. Ürün popülerlik skorlarını hesapla\n",
    "    product_popularity = data['urun_id'].value_counts(normalize=True).to_dict()\n",
    "\n",
    "    # 2. Modelin önerdiği ürünleri al\n",
    "    recommendations = model.predict(X_test)\n",
    "\n",
    "    # 3. MNS hesapla\n",
    "    novelty_scores = [\n",
    "        -np.log(product_popularity.get(product_id, 1e-10))  # Popülerlik sıfırsa küçük bir değer kullan\n",
    "        for product_id in recommendations\n",
    "    ]\n",
    "    \n",
    "    return np.mean(novelty_scores)\n",
    "\n",
    "# MNS hesapla\n",
    "mns_score = calculate_mns(data, rf, X_test)\n",
    "print(f\"Mean Novelty Score (MNS): {mns_score:.4f}\")\n"
   ]
  },
  {
   "cell_type": "code",
   "execution_count": 18,
   "id": "71bc0297",
   "metadata": {},
   "outputs": [
    {
     "name": "stdout",
     "output_type": "stream",
     "text": [
      "Mean Diversity Score (MDS): 0.0000\n"
     ]
    }
   ],
   "source": [
    "from sklearn.metrics.pairwise import cosine_similarity\n",
    "import numpy as np\n",
    "import pandas as pd\n",
    "\n",
    "def calculate_mds(data, model, X_test, sample_size=100):\n",
    "    df = data.copy()\n",
    "\n",
    "    # Gerekli sütunları kontrol et\n",
    "    if 'eklenme_tarihi' not in df.columns or 'puan' not in df.columns:\n",
    "        print(\"Hata: 'eklenme_tarihi' veya 'puan' sütunu eksik.\")\n",
    "        return 0.0\n",
    "\n",
    "    # Tarihi dönüştür\n",
    "    df['eklenme_tarihi'] = pd.to_datetime(df['eklenme_tarihi'], errors='coerce')\n",
    "    df = df.dropna(subset=['eklenme_tarihi', 'puan'])\n",
    "\n",
    "    # Epoch formatına çevir\n",
    "    df['eklenme_tarihi'] = df['eklenme_tarihi'].astype('int64') / 10**9\n",
    "\n",
    "    # Özellik matrisini hazırla\n",
    "    product_features = df.set_index('urun_id')[['puan', 'eklenme_tarihi']]\n",
    "\n",
    "    # Modelin tahmin ettiği ürünleri al\n",
    "    recommendations = model.predict(X_test)\n",
    "\n",
    "    # Benzersiz ürünleri al\n",
    "    unique_recommendations = np.unique(recommendations)\n",
    "    if len(unique_recommendations) > sample_size:\n",
    "        unique_recommendations = np.random.choice(unique_recommendations, sample_size, replace=False)\n",
    "\n",
    "    if len(unique_recommendations) <= 1:\n",
    "        return 0.0\n",
    "\n",
    "    try:\n",
    "        features = product_features.loc[unique_recommendations].dropna().values\n",
    "        similarity_matrix = cosine_similarity(features)\n",
    "        mean_sim = np.mean(similarity_matrix[np.triu_indices(len(features), k=1)])\n",
    "        return round(1 - mean_sim, 4)\n",
    "    except Exception as e:\n",
    "        print(\"Hata oluştu:\", e)\n",
    "        return 0.0\n",
    "mds_score = calculate_mds(data, model=rf, X_test=X_test)\n",
    "print(f\"Mean Diversity Score (MDS): {mds_score:.4f}\")\n"
   ]
  },
  {
   "cell_type": "code",
   "execution_count": 19,
   "id": "5ab417ff",
   "metadata": {},
   "outputs": [
    {
     "name": "stdout",
     "output_type": "stream",
     "text": [
      "Mean Average Precision (MAP): 0.3360\n"
     ]
    }
   ],
   "source": [
    "def calculate_map(model, X_test, y_test, k=1):\n",
    "    correct_predictions = 0\n",
    "    total_users = len(X_test)\n",
    "\n",
    "    for i in range(total_users):\n",
    "        input_item = X_test.iloc[[i]]  # Sütun adları korunur\n",
    "        true_label = y_test.iloc[i]\n",
    "\n",
    "        predicted = model.predict(input_item)\n",
    "\n",
    "        if true_label in predicted[:k]:\n",
    "            correct_predictions += 1\n",
    "\n",
    "    map_score = correct_predictions / total_users\n",
    "    return round(map_score, 4)\n",
    "\n",
    "map_score = calculate_map(model=rf, X_test=X_test, y_test=y_test, k=1)\n",
    "print(f\"Mean Average Precision (MAP): {map_score:.4f}\")\n"
   ]
  },
  {
   "cell_type": "code",
   "execution_count": 20,
   "id": "9553c981",
   "metadata": {},
   "outputs": [],
   "source": [
    "import pickle\n",
    "\n",
    "# Tüm metrikleri tek bir sözlükte topla\n",
    "random_forest_results = {\n",
    "    \"MAP\": map_score,\n",
    "    \"CC\": cc_score,\n",
    "    \"MNS\": mns_score,\n",
    "    \"MDS\": mds_score,\n",
    "    \"MPS\": mps_score\n",
    "}\n",
    "\n",
    "# Tek bir dosyaya kaydet\n",
    "with open(\"random_forest_sonuclari.pkl\", \"wb\") as f:\n",
    "    pickle.dump(random_forest_results, f)\n"
   ]
  },
  {
   "cell_type": "code",
   "execution_count": null,
   "id": "0d033bb8",
   "metadata": {},
   "outputs": [],
   "source": []
  }
 ],
 "metadata": {
  "kernelspec": {
   "display_name": "Python 3 (ipykernel)",
   "language": "python",
   "name": "python3"
  },
  "language_info": {
   "codemirror_mode": {
    "name": "ipython",
    "version": 3
   },
   "file_extension": ".py",
   "mimetype": "text/x-python",
   "name": "python",
   "nbconvert_exporter": "python",
   "pygments_lexer": "ipython3",
   "version": "3.11.5"
  }
 },
 "nbformat": 4,
 "nbformat_minor": 5
}
