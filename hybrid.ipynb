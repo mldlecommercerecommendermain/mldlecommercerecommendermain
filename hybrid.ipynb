{
 "cells": [
  {
   "cell_type": "code",
   "execution_count": 4,
   "id": "2a17ddb7",
   "metadata": {},
   "outputs": [
    {
     "name": "stdout",
     "output_type": "stream",
     "text": [
      "Veri Setindeki İlk 5 Satır:\n",
      "       uye_id  urun_id           eklenme_tarihi  puan   event_type  \\\n",
      "0           0    73914  2024-08-05 06:04:45.000     3  add_to_cart   \n",
      "26803       0    67497  2024-08-05 06:04:45.000     3  add_to_cart   \n",
      "51084       0    71618  2024-08-05 07:40:59.000     2         view   \n",
      "51456       0    72386  2024-08-05 07:41:00.000     4  add_to_cart   \n",
      "51554       0    47037  2024-08-05 07:41:01.000     5     purchase   \n",
      "\n",
      "                                                     adi marka_id kategori_id  \\\n",
      "0      Electrolux  SuperCyclone SCPARKETTO 1400W Toz ...      502        1366   \n",
      "26803  Logitech MX Keys 920-010087 TR Q Aydınlatmalı ...       67         746   \n",
      "51084  Toshiba N300 HDWG21EUZSVA 14TB 7200RPM 256MB 3...      120         794   \n",
      "51456  Asrock X870 Pro RS WiFi AMD X870 Soket AM5 DDR...       15         779   \n",
      "51554  Asus ROG Strix LC 240 RGB White Edition 240mm ...       16        1775   \n",
      "\n",
      "                                             ozellikleri  \n",
      "0      Toz Torbasız, 1400 W, 83 dB, Var, Yok, 2.0 Lt,...  \n",
      "26803  Türkçe Q, Kablosuz, USB, Bluetooth, Hayır, Var...  \n",
      "51084  14 TB, 7200 RPM, 256 Mb Cache Bellek, SATA 3, ...  \n",
      "51456  AM5, AMD, AMD X870, 2 x USB 4 Type-C, 2 x USB ...  \n",
      "51554         Sıvı Soğutma, Beyaz, 2 x 120mm, AMD, Intel  \n",
      "\n",
      "\n"
     ]
    }
   ],
   "source": [
    "import pandas as pd\n",
    "import numpy as np\n",
    "\n",
    "# 1. Veriyi pkl dosyasından yükle\n",
    "file_path = 'birlesik_veri_tekil.pkl'\n",
    "data = pd.read_pickle(file_path)\n",
    "\n",
    "# İlk birkaç satırı görüntüle\n",
    "print(\"Veri Setindeki İlk 5 Satır:\")\n",
    "print(data.head())\n",
    "\n",
    "print(\"\\n\")\n"
   ]
  },
  {
   "cell_type": "code",
   "execution_count": 13,
   "id": "cc35b713",
   "metadata": {},
   "outputs": [
    {
     "name": "stdout",
     "output_type": "stream",
     "text": [
      "Önerilen ürünlerin detayları:\n",
      "       uye_id  urun_id           eklenme_tarihi  puan   event_type  \\\n",
      "67713       0    26543  2024-08-06 14:05:16.000     1         view   \n",
      "68012       0    66189  2024-08-06 15:17:58.000     5     purchase   \n",
      "70754       0    50073  2024-08-07 14:41:18.000     2         view   \n",
      "74295       0    67221  2024-08-11 19:31:33.000     4  add_to_cart   \n",
      "74392       0    29211  2024-08-12 09:36:58.000     2         view   \n",
      "75821       0    26529  2024-08-15 02:09:35.000     2         view   \n",
      "78617       0    13827  2024-08-21 15:34:03.000     3  add_to_cart   \n",
      "79652       0    25110  2024-08-23 16:02:32.000     1         view   \n",
      "80992  433507    32274  2024-09-06 16:09:52.000     2         view   \n",
      "81107       0    18211  2024-09-12 19:49:12.000     2         view   \n",
      "\n",
      "                                                     adi marka_id kategori_id  \\\n",
      "67713  MSI Summit E16 Flip A11UCT-011TR i7-1195G7 16G...       75         834   \n",
      "68012  Fakir Veyron Turbo XL Rose 750 W Toz Torbasız ...      129        1366   \n",
      "70754  Fakir Darky 2 in 1 Dik Elektrikli Süpürge 1600...      129        1366   \n",
      "74295  Rowenta RO8324 Silence Force MultiCyclonic Ele...      234        1366   \n",
      "74392  Xiaomi Mi Vacuum Mop 1C Akıllı Robot Süpürge v...      540        1651   \n",
      "75821                                           Oblivion      572        1675   \n",
      "78617  MSI Modern AM241TP 11M-237XTR i5-1135G7 16GB 5...       75         826   \n",
      "79652  Gigabyte B760-GAM-X-DDR5 Intel B760 Soket 1700...       46         779   \n",
      "80992  Karaca Maestrochef Essential XL Siyah 5.7 lt 1...      927        1077   \n",
      "81107  Baymak IDEE Premix 24 kW (17.200 Kcal/h) Tam Y...      191        1490   \n",
      "\n",
      "                                             ozellikleri  \n",
      "67713  Intel Core i7-1195G7, 2.90 GHz, Intel Core i7,...  \n",
      "68012  Toz Torbasız,  750 W, 74 dB, Var, Yok, 2.0 Lt,...  \n",
      "70754  Toz Torbasız, 1600 W, 82 dB, Yok, Yok, 1.0 Lt....  \n",
      "74295  Toz Torbasız,  750 W, 68 dB, Var, Yok, 2.0 Lt,...  \n",
      "74392  4 Saat, 0.6 Lt, Var, 20 mm, Halı, Sert Zemin, ...  \n",
      "75821  Core i5-14400F, 16GB, Yok, 500 GB, Nvidia GeFo...  \n",
      "78617  Intel Core i5-1135G7, 2.4 Ghz, Free DOS, 23.8\"...  \n",
      "79652  1700, Intel, Intel B760, DDR5 7600(OC) / 7400(...  \n",
      "80992                              5.7 Lt, Siyah, 1400 W  \n",
      "81107              Yoğuşmalı, Elektrik, Yoğuşmalı, 3 Yıl  \n"
     ]
    }
   ],
   "source": [
    "import pandas as pd\n",
    "from sklearn.feature_extraction.text import TfidfVectorizer\n",
    "from sklearn.metrics.pairwise import cosine_similarity\n",
    "\n",
    "# Content-Based Filtering (İçerik Tabanlı)\n",
    "def content_based(data, urun_id, top_n=5):\n",
    "    # TF-IDF vektörleştirme\n",
    "    tfidf = TfidfVectorizer()\n",
    "    tfidf_matrix = tfidf.fit_transform(data['ozellikleri'])\n",
    "    \n",
    "    # Cosine Similarity hesaplama\n",
    "    cosine_sim = cosine_similarity(tfidf_matrix, tfidf_matrix)\n",
    "    \n",
    "    # Öneri\n",
    "    try:\n",
    "        idx = data[data['urun_id'] == urun_id].index[0]\n",
    "        benzerlik_skorları = list(enumerate(cosine_sim[idx]))\n",
    "        benzerlik_skorları = sorted(benzerlik_skorları, key=lambda x: x[1], reverse=True)\n",
    "        benzer_urunler = [data.iloc[i[0]]['urun_id'] for i in benzerlik_skorları[1:top_n+1]]  # İlk top_n öneri\n",
    "        return benzer_urunler\n",
    "    except IndexError:\n",
    "        return []\n",
    "\n",
    "# Collaborative Filtering (İşbirlikçi)\n",
    "def collaborative_filtering(user_item_matrix, urun_id, top_n=5):\n",
    "    # Cosine Similarity ile ürün benzerlikleri\n",
    "    cosine_sim = cosine_similarity(user_item_matrix.T, user_item_matrix.T)\n",
    "    product_idx = user_item_matrix.columns.get_loc(urun_id) if urun_id in user_item_matrix.columns else None\n",
    "    \n",
    "    if product_idx is not None:\n",
    "        benzerlik_skorları = list(enumerate(cosine_sim[product_idx]))\n",
    "        benzerlik_skorları = sorted(benzerlik_skorları, key=lambda x: x[1], reverse=True)\n",
    "        benzer_urunler = [user_item_matrix.columns[i[0]] for i in benzerlik_skorları[1:top_n+1]]  # İlk top_n öneri\n",
    "        return benzer_urunler\n",
    "    else:\n",
    "        return []\n",
    "\n",
    "# Hybrid Öneri Sistemi\n",
    "# Hybrid öneri fonksiyonu güncellemesi\n",
    "def hybrid_recommendation(data, user_item_matrix, urun_id, top_n=10):\n",
    "    # Ürün ID'nin mevcut olup olmadığını kontrol et\n",
    "    if urun_id not in data['urun_id'].values:\n",
    "        return f\"Ürün ID {urun_id} veri setinde bulunamadı.\"\n",
    "    \n",
    "    # Content-Based ve Collaborative Filtering önerileri\n",
    "    content_based_scores = content_based(data, urun_id, top_n=top_n)\n",
    "    collaborative_scores = collaborative_filtering(user_item_matrix, urun_id, top_n=top_n)\n",
    "    \n",
    "    # Her iki sonuç birleşimi\n",
    "    combined_scores = list(set(content_based_scores + collaborative_scores))\n",
    "    \n",
    "    # Hiç öneri yoksa mesaj döndür\n",
    "    if not combined_scores:\n",
    "        return f\"Ürün ID {urun_id} için öneri bulunamadı.\"\n",
    "    \n",
    "    # İlk top_n öneriyi döndür\n",
    "    final_recommendations = combined_scores[:top_n]\n",
    "    return final_recommendations\n",
    "\n",
    "user_item_matrix = data.pivot_table(index='uye_id', columns='urun_id', values='puan', fill_value=0)\n",
    "\n",
    "# Rastgele bir ürün ID'si dene\n",
    "rastgele_urun_id = 73914  # Rastgele ürün ID\n",
    "önerilen_urunler = hybrid_recommendation(data, user_item_matrix, rastgele_urun_id)\n",
    "\n",
    "# Önerileri yazdır\n",
    "if isinstance(önerilen_urunler, str):  # Hata mesajı dönerse\n",
    "    print(önerilen_urunler)\n",
    "else:\n",
    "    önerilen_urun_detaylari = data[data['urun_id'].isin(önerilen_urunler)].drop_duplicates(subset=['urun_id'])\n",
    "    print(f\"Önerilen ürünlerin detayları:\\n{önerilen_urun_detaylari}\")\n"
   ]
  },
  {
   "cell_type": "code",
   "execution_count": 15,
   "id": "fe0521a9",
   "metadata": {},
   "outputs": [],
   "source": [
    "user_id = 0  # Kullanıcı ID'si (örnek)\n",
    "relevant_items = data[data['uye_id'] == user_id]['urun_id'].tolist()  # Kullanıcı 1 için etkileşimde bulunduğu ürünler"
   ]
  },
  {
   "cell_type": "code",
   "execution_count": 17,
   "id": "8779b3ca",
   "metadata": {},
   "outputs": [
    {
     "name": "stdout",
     "output_type": "stream",
     "text": [
      "Mean Novelty Score (MNS): 0.5000\n"
     ]
    }
   ],
   "source": [
    "def calculate_mns(önerilen_urunler, item_popularity):\n",
    "    novelty_scores = [1 / (1 + item_popularity[item]) for item in önerilen_urunler if item in item_popularity]\n",
    "    return sum(novelty_scores) / len(novelty_scores) if novelty_scores else 0\n",
    "\n",
    "item_popularity = data['urun_id'].value_counts().to_dict()\n",
    "mns_score = calculate_mns(önerilen_urunler, item_popularity)\n",
    "print(f\"Mean Novelty Score (MNS): {mns_score:.4f}\")\n"
   ]
  },
  {
   "cell_type": "code",
   "execution_count": 19,
   "id": "20e1539a",
   "metadata": {},
   "outputs": [
    {
     "name": "stdout",
     "output_type": "stream",
     "text": [
      "Mean Diversity Score (MDS): 0.8000\n"
     ]
    }
   ],
   "source": [
    "def calculate_mds(önerilen_urunler, item_categories):\n",
    "    categories = [item_categories[item] for item in önerilen_urunler if item in item_categories]\n",
    "    return len(set(categories)) / len(categories) if categories else 0\n",
    "\n",
    "item_categories = data.set_index('urun_id')['kategori_id'].to_dict()\n",
    "mds_score = calculate_mds(önerilen_urunler, item_categories)\n",
    "print(f\"Mean Diversity Score (MDS): {mds_score:.4f}\")"
   ]
  },
  {
   "cell_type": "code",
   "execution_count": 20,
   "id": "81d46673",
   "metadata": {},
   "outputs": [
    {
     "name": "stdout",
     "output_type": "stream",
     "text": [
      "Catalog Coverage (CC): 0.0112\n"
     ]
    }
   ],
   "source": [
    "def calculate_cc(önerilen_urunler, total_items):\n",
    "    return len(set(önerilen_urunler)) / len(total_items)\n",
    "\n",
    "total_items = data['urun_id'].unique()\n",
    "cc_score = calculate_cc(önerilen_urunler, total_items)\n",
    "print(f\"Catalog Coverage (CC): {cc_score:.4f}\")"
   ]
  },
  {
   "cell_type": "code",
   "execution_count": 21,
   "id": "411ebe24",
   "metadata": {},
   "outputs": [
    {
     "name": "stdout",
     "output_type": "stream",
     "text": [
      "MAP Score: 0.0137\n"
     ]
    }
   ],
   "source": [
    "def calculate_map(önerilen_urunler, relevant_items):\n",
    "    precision_scores = []\n",
    "    for k in range(1, len(önerilen_urunler) + 1):\n",
    "        precision_at_k = len(set(önerilen_urunler[:k]) & set(relevant_items)) / k\n",
    "        precision_scores.append(precision_at_k)\n",
    "        \n",
    "    return sum(precision_scores) / len(relevant_items) if relevant_items else 0\n",
    "\n",
    "map_score = calculate_map(önerilen_urunler, relevant_items)\n",
    "print(f\"MAP Score: {map_score:.4f}\")"
   ]
  },
  {
   "cell_type": "code",
   "execution_count": 22,
   "id": "992532e7",
   "metadata": {},
   "outputs": [
    {
     "name": "stdout",
     "output_type": "stream",
     "text": [
      "Mean Personalization Score (MPS): 0.6304\n"
     ]
    }
   ],
   "source": [
    "def calculate_mps(data, user_item_matrix, top_n=5):\n",
    "    # Kullanıcıların her birine öneriler oluştur\n",
    "    user_recommendations = {}\n",
    "    \n",
    "    for user_id in data['uye_id'].unique():\n",
    "        # Kullanıcı için öneri al\n",
    "        # Önerilen ürünler, hybrid_recommendation fonksiyonu ile dinamik alınabilir\n",
    "        recommended_items = hybrid_recommendation(data, user_item_matrix, user_id, top_n=top_n)\n",
    "        user_recommendations[user_id] = recommended_items\n",
    "    \n",
    "    # MPS Hesaplama\n",
    "    total_users = len(user_recommendations)\n",
    "    unique_recommendations = sum([len(set(user_recommendations[u])) for u in user_recommendations])\n",
    "    total_recommendations = sum([len(user_recommendations[u]) for u in user_recommendations])\n",
    "    \n",
    "    # MPS (Mean Personalization Score) hesapla\n",
    "    return unique_recommendations / total_recommendations if total_recommendations > 0 else 0\n",
    "\n",
    "# Kullanım:\n",
    "mps_score = calculate_mps(data, user_item_matrix, top_n=5)\n",
    "print(f\"Mean Personalization Score (MPS): {mps_score:.4f}\")\n"
   ]
  },
  {
   "cell_type": "code",
   "execution_count": 23,
   "id": "0caad0a4",
   "metadata": {},
   "outputs": [],
   "source": [
    "import pickle\n",
    "\n",
    "# Tüm metrikleri tek bir sözlükte topla\n",
    "hybrid_results = {\n",
    "    \"MAP\": map_score,\n",
    "    \"CC\": cc_score,\n",
    "    \"MNS\": mns_score,\n",
    "    \"MDS\": mds_score,\n",
    "    \"MPS\": mps_score\n",
    "}\n",
    "\n",
    "# Tek bir dosyaya kaydet\n",
    "with open(\"hybrid_sonuclari.pkl\", \"wb\") as f:\n",
    "    pickle.dump(hybrid_results, f)\n"
   ]
  },
  {
   "cell_type": "code",
   "execution_count": null,
   "id": "b0c67e35",
   "metadata": {},
   "outputs": [],
   "source": []
  }
 ],
 "metadata": {
  "kernelspec": {
   "display_name": "Python 3 (ipykernel)",
   "language": "python",
   "name": "python3"
  },
  "language_info": {
   "codemirror_mode": {
    "name": "ipython",
    "version": 3
   },
   "file_extension": ".py",
   "mimetype": "text/x-python",
   "name": "python",
   "nbconvert_exporter": "python",
   "pygments_lexer": "ipython3",
   "version": "3.11.5"
  }
 },
 "nbformat": 4,
 "nbformat_minor": 5
}
