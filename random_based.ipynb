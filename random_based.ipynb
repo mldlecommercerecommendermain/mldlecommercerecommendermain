{
 "cells": [
  {
   "cell_type": "code",
   "execution_count": 2,
   "id": "77d36b58",
   "metadata": {},
   "outputs": [
    {
     "name": "stdout",
     "output_type": "stream",
     "text": [
      "Veri Setindeki İlk 5 Satır:\n",
      "   User_ID  Product_ID  Quantity            Timestamp\n",
      "0       76       67785         4  2024-02-28 15:46:28\n",
      "1       62       44238         5  2024-03-03 03:48:28\n",
      "2       99       38560         3  2024-08-03 20:02:49\n",
      "3       67       48066         1  2024-08-08 04:40:07\n",
      "4       93       25530         1  2024-06-12 00:33:24\n",
      "\n",
      "\n"
     ]
    }
   ],
   "source": [
    "import pandas as pd\n",
    "import numpy as np\n",
    "import random\n",
    "\n",
    "# 1. Veriyi pkl dosyasından yükle\n",
    "file_path = 'hazirlanmis_satin_alma.pkl'\n",
    "data = pd.read_pickle(file_path)\n",
    "\n",
    "# İlk birkaç satırı görüntüle\n",
    "print(\"Veri Setindeki İlk 5 Satır:\")\n",
    "print(data.head())\n",
    "\n",
    "print(\"\\n\")\n"
   ]
  },
  {
   "cell_type": "code",
   "execution_count": 3,
   "id": "03e6be00",
   "metadata": {},
   "outputs": [],
   "source": [
    "# Ürün havuzunu oluştur\n",
    "product_pool = data['Product_ID'].unique()\n"
   ]
  },
  {
   "cell_type": "code",
   "execution_count": 12,
   "id": "07bdf646",
   "metadata": {},
   "outputs": [],
   "source": [
    "# Kullanıcıları benzersiz olarak listele\n",
    "unique_users = data['User_ID'].unique()\n",
    "\n",
    "# Rastgele öneri fonksiyonu\n",
    "def random_recommendations(user_id, product_pool, n=5):\n",
    "    return {\n",
    "        \"user_id\": user_id,\n",
    "        \"recommended_items\": random.sample(list(product_pool), n)\n",
    "    }\n",
    "\n",
    "# Tüm kullanıcılar için öneriler oluştur\n",
    "recommendation_list = [\n",
    "    random_recommendations(user_id, product_pool) for user_id in unique_users\n",
    "]\n",
    "\n",
    "# Önerileri DataFrame olarak düzenle\n",
    "recommendation_df = pd.DataFrame(recommendation_list)\n"
   ]
  },
  {
   "cell_type": "code",
   "execution_count": 13,
   "id": "b16d5bac",
   "metadata": {},
   "outputs": [
    {
     "name": "stdout",
     "output_type": "stream",
     "text": [
      "    user_id                    recommended_items\n",
      "0        76  [40361, 65247, 71849, 43507, 28106]\n",
      "1        62  [36749, 22626, 23563, 30940, 31756]\n",
      "2        99  [75528, 32846, 24665, 53689, 42028]\n",
      "3        67  [42648, 70085, 47134, 41206, 24984]\n",
      "4        93  [61916, 64319, 40293, 74102, 68902]\n",
      "..      ...                                  ...\n",
      "95       80  [54023, 22102, 75676, 32155, 55192]\n",
      "96       46  [30902, 42424, 43365, 36866, 76466]\n",
      "97       71  [29899, 30562, 49703, 46798, 23594]\n",
      "98       97  [39910, 26843, 27948, 49867, 48362]\n",
      "99       13  [40792, 67785, 67122, 22312, 25364]\n",
      "\n",
      "[100 rows x 2 columns]\n"
     ]
    }
   ],
   "source": [
    "# DataFrame'in tamamını veya ilk birkaç satırını yazdırabilirsiniz\n",
    "print(recommendation_df)  # Tüm DataFrame'i yazdırır\n"
   ]
  },
  {
   "cell_type": "code",
   "execution_count": 15,
   "id": "bcb4ae1a",
   "metadata": {},
   "outputs": [
    {
     "name": "stdout",
     "output_type": "stream",
     "text": [
      "MAP Değeri: 0.0285\n"
     ]
    }
   ],
   "source": [
    "# Gerçek etkileşimleri hazırlama\n",
    "actual_interactions = {\n",
    "    user_id: group['Product_ID'].tolist()\n",
    "    for user_id, group in data.groupby('User_ID')\n",
    "}\n",
    "\n",
    "# MAP hesaplama fonksiyonu\n",
    "def calculate_map(recommendations, actual_interactions, k=10):\n",
    "    map_score = 0\n",
    "    user_count = 0\n",
    "\n",
    "    for user_id, recommended_items in recommendations.items():\n",
    "        relevant_items = actual_interactions.get(user_id, [])\n",
    "        if not relevant_items:\n",
    "            continue\n",
    "\n",
    "        recommended_items = recommended_items[:k]\n",
    "        hits = 0\n",
    "        sum_precision = 0\n",
    "        for i, item in enumerate(recommended_items):\n",
    "            if item in relevant_items:\n",
    "                hits += 1\n",
    "                precision_at_i = hits / (i + 1)\n",
    "                sum_precision += precision_at_i\n",
    "\n",
    "        if hits > 0:\n",
    "            map_score += sum_precision / hits\n",
    "        user_count += 1\n",
    "\n",
    "    return map_score / user_count if user_count > 0 else 0\n",
    "\n",
    "# Öneri sözlüğünü oluştur\n",
    "recommendations = recommendation_df.set_index('user_id')['recommended_items'].to_dict()\n",
    "\n",
    "# MAP değerini hesapla\n",
    "map_score = calculate_map(recommendations, actual_interactions)\n",
    "print(f\"MAP Değeri: {map_score:.4f}\")\n"
   ]
  },
  {
   "cell_type": "code",
   "execution_count": 16,
   "id": "47025966",
   "metadata": {},
   "outputs": [
    {
     "name": "stdout",
     "output_type": "stream",
     "text": [
      "CC Değeri: 0.4002\n"
     ]
    }
   ],
   "source": [
    "def calculate_cc(recommendations, product_pool):\n",
    "    # Önerilen tüm ürünleri bir kümede toplama\n",
    "    recommended_items = set()\n",
    "    for items in recommendations.values():\n",
    "        recommended_items.update(items)\n",
    "    \n",
    "    # CC Hesabı\n",
    "    coverage = len(recommended_items) / len(product_pool)\n",
    "    return coverage\n",
    "\n",
    "# CC değerini hesapla\n",
    "cc_score = calculate_cc(recommendations, product_pool)\n",
    "print(f\"CC Değeri: {cc_score:.4f}\")\n"
   ]
  },
  {
   "cell_type": "code",
   "execution_count": 17,
   "id": "3a9c2cf1",
   "metadata": {},
   "outputs": [
    {
     "name": "stdout",
     "output_type": "stream",
     "text": [
      "MNS Değeri: 6.9008\n"
     ]
    }
   ],
   "source": [
    "import numpy as np\n",
    "\n",
    "def calculate_mns(recommendations, data):\n",
    "    # Her ürünün popülerlik skorunu hesapla\n",
    "    product_popularity = data['Product_ID'].value_counts(normalize=True)\n",
    "    \n",
    "    # Ters popülerlik skorunu hesapla (-log(Popularity))\n",
    "    novelty_scores = -np.log(product_popularity)\n",
    "    \n",
    "    # Her kullanıcı için önerilen ürünlerin yenilik skorlarını hesapla\n",
    "    total_novelty = 0\n",
    "    total_recommendations = 0\n",
    "    \n",
    "    for user_id, recommended_items in recommendations.items():\n",
    "        user_novelty = novelty_scores.loc[recommended_items].sum()\n",
    "        total_novelty += user_novelty\n",
    "        total_recommendations += len(recommended_items)\n",
    "    \n",
    "    # Ortalama Yenilik Skoru\n",
    "    mns_score = total_novelty / total_recommendations if total_recommendations > 0 else 0\n",
    "    return mns_score\n",
    "\n",
    "# MNS değerini hesapla\n",
    "mns_score = calculate_mns(recommendations, data)\n",
    "print(f\"MNS Değeri: {mns_score:.4f}\")\n"
   ]
  },
  {
   "cell_type": "code",
   "execution_count": 18,
   "id": "875ec272",
   "metadata": {},
   "outputs": [
    {
     "name": "stdout",
     "output_type": "stream",
     "text": [
      "MDS Değeri: 0.2361\n"
     ]
    }
   ],
   "source": [
    "from sklearn.metrics.pairwise import cosine_similarity\n",
    "import numpy as np\n",
    "\n",
    "def calculate_mds(recommendations, product_features):\n",
    "    total_diversity = 0\n",
    "    user_count = 0\n",
    "    \n",
    "    for user_id, recommended_items in recommendations.items():\n",
    "        # Kullanıcının önerilen ürünlerini seç\n",
    "        feature_vectors = product_features.loc[recommended_items].values\n",
    "        \n",
    "        # Eğer öneriler 1 ürün içeriyorsa çeşitlilik hesaplanamaz\n",
    "        if len(feature_vectors) < 2:\n",
    "            continue\n",
    "        \n",
    "        # Ürünler arasındaki benzerlik matrisini hesapla\n",
    "        similarity_matrix = cosine_similarity(feature_vectors)\n",
    "        \n",
    "        # Benzerlik matrisinden farklılık skoru çıkar (1 - similarity)\n",
    "        diversity_matrix = 1 - similarity_matrix\n",
    "        \n",
    "        # Ürünler arasındaki ortalama çeşitliliği hesapla\n",
    "        avg_diversity = np.sum(diversity_matrix) / (len(recommended_items) * (len(recommended_items) - 1))\n",
    "        total_diversity += avg_diversity\n",
    "        user_count += 1\n",
    "    \n",
    "    # Ortalama Çeşitlilik Skoru\n",
    "    mds_score = total_diversity / user_count if user_count > 0 else 0\n",
    "    return mds_score\n",
    "\n",
    "# Örnek ürün özellik matrisi oluştur\n",
    "# Her ürünün özelliklerini temsil eden rastgele bir matris\n",
    "product_features = pd.DataFrame(\n",
    "    np.random.rand(len(product_pool), 5),  # Örnek olarak 5 özellik\n",
    "    index=product_pool\n",
    ")\n",
    "\n",
    "# MDS değerini hesapla\n",
    "mds_score = calculate_mds(recommendations, product_features)\n",
    "print(f\"MDS Değeri: {mds_score:.4f}\")\n"
   ]
  },
  {
   "cell_type": "code",
   "execution_count": 19,
   "id": "7fd43a7a",
   "metadata": {},
   "outputs": [
    {
     "name": "stdout",
     "output_type": "stream",
     "text": [
      "MPS Değeri: 0.9972\n"
     ]
    }
   ],
   "source": [
    "def calculate_mps(recommendations):\n",
    "    user_ids = list(recommendations.keys())\n",
    "    total_similarity = 0\n",
    "    user_count = len(user_ids)\n",
    "\n",
    "    # Kullanıcılar arasında önerilerin ortak ürünlerini kontrol et\n",
    "    for i in range(user_count):\n",
    "        user_a = user_ids[i]\n",
    "        recommendations_a = set(recommendations[user_a])\n",
    "        \n",
    "        for j in range(i + 1, user_count):\n",
    "            user_b = user_ids[j]\n",
    "            recommendations_b = set(recommendations[user_b])\n",
    "            \n",
    "            # Ortak ürünlerin oranını hesapla\n",
    "            intersection = len(recommendations_a & recommendations_b)\n",
    "            union = len(recommendations_a | recommendations_b)\n",
    "            similarity = intersection / union if union > 0 else 0\n",
    "            \n",
    "            # Farklılık skoru (1 - Benzerlik)\n",
    "            total_similarity += 1 - similarity\n",
    "\n",
    "    # Ortalama Kişiselleştirme Skoru\n",
    "    total_comparisons = user_count * (user_count - 1) / 2\n",
    "    mps_score = total_similarity / total_comparisons if total_comparisons > 0 else 0\n",
    "    return mps_score\n",
    "\n",
    "# MPS değerini hesapla\n",
    "mps_score = calculate_mps(recommendations)\n",
    "print(f\"MPS Değeri: {mps_score:.4f}\")\n"
   ]
  },
  {
   "cell_type": "code",
   "execution_count": 20,
   "id": "e9560a3c",
   "metadata": {},
   "outputs": [],
   "source": [
    "import pickle\n",
    "\n",
    "# Tüm metrikleri tek bir sözlükte topla\n",
    "random_based_results = {\n",
    "    \"MAP\": map_score,\n",
    "    \"CC\": cc_score,\n",
    "    \"MNS\": mns_score,\n",
    "    \"MDS\": mds_score,\n",
    "    \"MPS\": mps_score\n",
    "}\n",
    "\n",
    "# Tek bir dosyaya kaydet\n",
    "with open(\"random_based_sonuclari.pkl\", \"wb\") as f:\n",
    "    pickle.dump(random_based_results, f)\n"
   ]
  },
  {
   "cell_type": "code",
   "execution_count": null,
   "id": "a2918a60",
   "metadata": {},
   "outputs": [],
   "source": []
  }
 ],
 "metadata": {
  "kernelspec": {
   "display_name": "Python 3 (ipykernel)",
   "language": "python",
   "name": "python3"
  },
  "language_info": {
   "codemirror_mode": {
    "name": "ipython",
    "version": 3
   },
   "file_extension": ".py",
   "mimetype": "text/x-python",
   "name": "python",
   "nbconvert_exporter": "python",
   "pygments_lexer": "ipython3",
   "version": "3.11.5"
  }
 },
 "nbformat": 4,
 "nbformat_minor": 5
}
