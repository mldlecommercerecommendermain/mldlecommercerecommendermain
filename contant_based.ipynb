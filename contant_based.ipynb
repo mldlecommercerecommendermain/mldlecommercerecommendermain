{
 "cells": [
  {
   "cell_type": "code",
   "execution_count": 2,
   "id": "5adbcc7a",
   "metadata": {},
   "outputs": [
    {
     "name": "stdout",
     "output_type": "stream",
     "text": [
      "Veri Setindeki İlk 5 Satır:\n",
      "   urun_id                                                adi marka_id  \\\n",
      "0    16328  MSI PRO B650M-B DDR5 AMD B650 AM5 Soket DDR5 6...       75   \n",
      "1    90137  MSI Modern 15 F13MG-098XTR i7-1355U 16GB DDR4 ...       75   \n",
      "2    25777  Sony DualSense Siyah Kablosuz PS5 Oyun Kolu (İ...      107   \n",
      "3    91026  Sony DualSense Beyaz Kablosuz PS5 Oyun Kolu (İ...      107   \n",
      "4    11443  Sony PlayStation 5 Slim Digital Sürüm Oyun Kon...      107   \n",
      "\n",
      "  kategori_id                                        ozellikleri  \n",
      "0         779  AM5, AMD, AMD B650, 2 x USB 2.0, 4 x USB 2.0, ...  \n",
      "1         834  Intel Core i7-1355U, 3.70GHz, INTEL Core™ i7, ...  \n",
      "2        1426                                Siyah, Gamepad, PS5  \n",
      "3        1426                                Beyaz, Gamepad, PS5  \n",
      "4         850                1TB, İthalatçı, Playstation 5, Slim  \n",
      "\n",
      "\n"
     ]
    }
   ],
   "source": [
    "import pandas as pd\n",
    "\n",
    "# 1. Veriyi pkl dosyasından yükle\n",
    "file_path = 'hazirlanmis_urun_ozellikleri.pkl'\n",
    "data = pd.read_pickle(file_path)\n",
    "\n",
    "# İlk birkaç satırı görüntüle\n",
    "print(\"Veri Setindeki İlk 5 Satır:\")\n",
    "print(data.head())\n",
    "\n",
    "print(\"\\n\")"
   ]
  },
  {
   "cell_type": "code",
   "execution_count": 4,
   "id": "80376095",
   "metadata": {},
   "outputs": [
    {
     "name": "stdout",
     "output_type": "stream",
     "text": [
      "TF-IDF matris boyutları: (23386, 10014)\n"
     ]
    }
   ],
   "source": [
    "from sklearn.feature_extraction.text import TfidfVectorizer\n",
    "\n",
    "# 'ozellikleri' sütununu TF-IDF ile vektörleştirme\n",
    "vectorizer = TfidfVectorizer(stop_words='english')\n",
    "feature_matrix = vectorizer.fit_transform(data['ozellikleri'])\n",
    "\n",
    "# Matrisin boyutlarını kontrol et\n",
    "print(\"TF-IDF matris boyutları:\", feature_matrix.shape)\n"
   ]
  },
  {
   "cell_type": "code",
   "execution_count": 5,
   "id": "0378966e",
   "metadata": {},
   "outputs": [
    {
     "name": "stdout",
     "output_type": "stream",
     "text": [
      "Alt küme benzerlik matrisi boyutları: (5000, 5000)\n"
     ]
    }
   ],
   "source": [
    "from sklearn.feature_extraction.text import TfidfVectorizer\n",
    "from sklearn.metrics.pairwise import cosine_similarity\n",
    "\n",
    "# Veri setinden rastgele 5000 satır seçelim\n",
    "df_sampled = data.sample(n=5000, random_state=42)\n",
    "\n",
    "# TF-IDF ve similarity işlemlerini bu alt kümede tekrar yapın\n",
    "feature_matrix = vectorizer.fit_transform(df_sampled['ozellikleri'])\n",
    "similarity_matrix = cosine_similarity(feature_matrix, feature_matrix)\n",
    "\n",
    "print(\"Alt küme benzerlik matrisi boyutları:\", similarity_matrix.shape)\n"
   ]
  },
  {
   "cell_type": "code",
   "execution_count": 6,
   "id": "c4c3afdd",
   "metadata": {},
   "outputs": [],
   "source": [
    "# Örneklenmiş veri çerçevesini sıfırdan başlayacak şekilde yeniden indeksleyin\n",
    "df_sampled = df_sampled.reset_index(drop=True)\n"
   ]
  },
  {
   "cell_type": "code",
   "execution_count": 14,
   "id": "bbe25096",
   "metadata": {},
   "outputs": [
    {
     "name": "stdout",
     "output_type": "stream",
     "text": [
      "Beğenilen ürünlerin indeksleri: Index([6], dtype='int64')\n",
      "Kullanıcı Profili Şekli: (5362,)\n",
      "Benzerlik Skorları İlk 10: [0.0893213  0.01841666 0.         0.01470638 0.07446253 0.06340223\n",
      " 1.         0.02750519 0.04009963 0.01341263]\n",
      "Önerilebilecek Ürünlerin İndeksleri: [2276, 3204, 3167, 2720, 4693, 4018, 2030, 421, 3006, 472]\n",
      "\n",
      "Kullanıcının Beğendiği Ürün:\n",
      "   urun_id                                                adi  \\\n",
      "6    87021  TCL 20L Plus 5G 256GB 6GB RAM Mavi Cep Telefon...   \n",
      "\n",
      "                                         ozellikleri  \n",
      "6  2. Sim girişine hafıza kartı veya sim kart tak...  \n",
      "\n",
      "Önerilen Ürünler:\n",
      "      urun_id                                                adi  \\\n",
      "2276    87331  Xiaomi Redmi Note 12 Pro 256GB 8GB Kutup Beyaz...   \n",
      "3204    23149  Samsung Galaxy A53 5G 128GB 8GB RAM Mavi Cep T...   \n",
      "3167    71148  TCL 20 Pro 5G 256GB 6GB RAM Mavi Cep Telefonu ...   \n",
      "2720    52128  Xiaomi Redmi 10 2022 64GB Deniz Mavisi Cep Tel...   \n",
      "4693    48562  Xiaomi Redmi 10 2022 128GB Deniz Mavisi Cep Te...   \n",
      "4018    97780  Xiaomi Redmi Note 13 256GB 8GB RAM Siyah Cep T...   \n",
      "2030    58168  Xiaomi Redmi Note 13 256GB 8GB RAM Yeşil Cep T...   \n",
      "421     55148  Xiaomi Redmi Note 13 Pro Plus 512GB 12GB RAM S...   \n",
      "3006    70069  TCL 10 Plus 256GB 6GB RAM Mavi Cep Telefonu - ...   \n",
      "472     44369  Xiaomi Redmi 12 128GB 8GB RAM Gece Siyahı Cep ...   \n",
      "\n",
      "                                            ozellikleri  \n",
      "2276  2. Sim girişine hafıza kartı veya sim kart tak...  \n",
      "3204  2. Sim girişine hafıza kartı veya sim kart tak...  \n",
      "3167  2. Sim girişine hafıza kartı veya sim kart tak...  \n",
      "2720  2. Sim girişine hafıza kartı veya sim kart tak...  \n",
      "4693  2. Sim girişine hafıza kartı veya sim kart tak...  \n",
      "4018  2. Sim girişine hafıza kartı veya sim kart tak...  \n",
      "2030  2. Sim girişine hafıza kartı veya sim kart tak...  \n",
      "421   2. Sim girişine hafıza kartı veya sim kart tak...  \n",
      "3006  2. Sim girişine hafıza kartı veya sim kart tak...  \n",
      "472   2. Sim girişine hafıza kartı veya sim kart tak...  \n"
     ]
    }
   ],
   "source": [
    "from sklearn.feature_extraction.text import TfidfVectorizer\n",
    "from sklearn.metrics.pairwise import cosine_similarity\n",
    "import numpy as np\n",
    "\n",
    "# TF-IDF işlemini tekrar yap\n",
    "vectorizer = TfidfVectorizer(stop_words='english')\n",
    "feature_matrix = vectorizer.fit_transform(df_sampled['ozellikleri']).toarray()  # Sparse'den dense'e\n",
    "\n",
    "# Örneklenmiş veri çerçevesini sıfırdan başlayacak şekilde yeniden indeksle\n",
    "df_sampled = df_sampled.reset_index(drop=True)\n",
    "\n",
    "# Kullanıcının beğendiği ürünleri belirle (MANUEL)\n",
    "user_liked_products = [87021]  # Örnek: Buraya kendi ürün ID'nizi yazabilirsiniz\n",
    "liked_indices = df_sampled[df_sampled['urun_id'].isin(user_liked_products)].index\n",
    "\n",
    "if len(liked_indices) == 0:\n",
    "    print(f\"Uyarı: Seçilen ürün ID'si ({user_liked_products}) bulunamadı.\")\n",
    "else:\n",
    "    print(\"Beğenilen ürünlerin indeksleri:\", liked_indices)\n",
    "\n",
    "    # Kullanıcı profili oluştur\n",
    "    user_profile = feature_matrix[liked_indices].mean(axis=0)\n",
    "    print(\"Kullanıcı Profili Şekli:\", user_profile.shape)\n",
    "\n",
    "    # Kullanıcı profilini TF-IDF matrisiyle karşılaştır ve benzerlik skorlarını hesapla\n",
    "    user_similarity_scores = cosine_similarity(user_profile.reshape(1, -1), feature_matrix).flatten()\n",
    "    print(\"Benzerlik Skorları İlk 10:\", user_similarity_scores[:10])\n",
    "\n",
    "    # Önerilebilecek ürünlerin indekslerini al\n",
    "    recommendable_indices = np.argsort(user_similarity_scores)[::-1]\n",
    "    recommendable_indices = [i for i in recommendable_indices if i not in liked_indices]\n",
    "    recommendable_indices = [i for i in recommendable_indices if 0 <= i < len(df_sampled)]\n",
    "\n",
    "    print(\"Önerilebilecek Ürünlerin İndeksleri:\", recommendable_indices[:10])\n",
    "\n",
    "    # İlk 10 öneriyi al\n",
    "    top_10_indices = recommendable_indices[:10]\n",
    "    recommendations = df_sampled.iloc[top_10_indices]\n",
    "\n",
    "    # Kullanıcının beğendiği ürünü göster\n",
    "    print(\"\\nKullanıcının Beğendiği Ürün:\")\n",
    "    print(df_sampled.loc[liked_indices, ['urun_id', 'adi', 'ozellikleri']])\n",
    "\n",
    "    # Önerilen ürünleri göster\n",
    "    print(\"\\nÖnerilen Ürünler:\")\n",
    "    print(recommendations[['urun_id', 'adi', 'ozellikleri']])\n"
   ]
  },
  {
   "cell_type": "code",
   "execution_count": 17,
   "id": "fe1cde26",
   "metadata": {},
   "outputs": [
    {
     "name": "stdout",
     "output_type": "stream",
     "text": [
      "CC Değeri: 0.0020\n"
     ]
    }
   ],
   "source": [
    "# CC (Coverage Criterion) hesaplama fonksiyonu\n",
    "def calculate_cc(recommendations, total_products):\n",
    "    # Eğer recommendations bir dict değilse düz liste gibi ele al\n",
    "    if isinstance(recommendations, dict):\n",
    "        recommended_items = set()\n",
    "        for items in recommendations.values():\n",
    "            recommended_items.update(items)\n",
    "    else:\n",
    "        # ndarray, DataFrame, Series vs.\n",
    "        recommended_items = set(recommendations)\n",
    "\n",
    "    coverage = len(recommended_items) / len(total_products)\n",
    "    return coverage\n",
    "\n",
    "total_products = df_sampled['urun_id'].unique()\n",
    "cc_score = calculate_cc(recommendations['urun_id'], total_products)  # Eğer df ise\n",
    "print(f\"CC Değeri: {cc_score:.4f}\")\n",
    "\n"
   ]
  },
  {
   "cell_type": "code",
   "execution_count": 20,
   "id": "d2bc88b7",
   "metadata": {},
   "outputs": [
    {
     "name": "stdout",
     "output_type": "stream",
     "text": [
      "MAP Değeri: 0.0000\n"
     ]
    }
   ],
   "source": [
    "def calculate_map(recommendations, ground_truths):\n",
    "    import numpy as np\n",
    "    average_precisions = []\n",
    "\n",
    "    for user_id, recommended_items in recommendations.items():\n",
    "        if user_id not in ground_truths or not ground_truths[user_id]:\n",
    "            continue\n",
    "\n",
    "        relevant_items = ground_truths[user_id]\n",
    "        precision_sum = 0.0\n",
    "        relevant_count = 0\n",
    "\n",
    "        for i, item in enumerate(recommended_items):\n",
    "            if item in relevant_items:\n",
    "                relevant_count += 1\n",
    "                precision_sum += relevant_count / (i + 1)  # Precision@k\n",
    "\n",
    "        average_precision = precision_sum / len(relevant_items)\n",
    "        average_precisions.append(average_precision)\n",
    "\n",
    "    return np.mean(average_precisions) if average_precisions else 0.0\n",
    "\n",
    "# Eğer user_id yoksa, otomatik boş dictionary ver\n",
    "ground_truths = {}\n",
    "\n",
    "\n",
    "map_score = calculate_map(recommendations, ground_truths)\n",
    "print(f\"MAP Değeri: {map_score:.4f}\")\n",
    "\n"
   ]
  },
  {
   "cell_type": "code",
   "execution_count": 22,
   "id": "3bb2a1f8",
   "metadata": {},
   "outputs": [
    {
     "name": "stdout",
     "output_type": "stream",
     "text": [
      "MNS Değeri: 0.5000\n"
     ]
    }
   ],
   "source": [
    "# Popülerlik skorlarını veri setinden türetme\n",
    "def generate_recommendations_and_products(similarity_matrix, df, top_n=5):\n",
    "    \"\"\"\n",
    "    TF-IDF benzerliğine göre ürün-ürün tavsiyeleri oluşturur.\n",
    "\n",
    "    Returns:\n",
    "        dict: urun_id → önerilen urun_id listesi\n",
    "        list: önerilen tüm ürünler\n",
    "    \"\"\"\n",
    "    from sklearn.metrics.pairwise import cosine_similarity\n",
    "    import numpy as np\n",
    "\n",
    "    product_ids = df['urun_id'].tolist()\n",
    "    recommendations = {}\n",
    "\n",
    "    for idx, product_id in enumerate(product_ids):\n",
    "        similarity_scores = list(enumerate(similarity_matrix[idx]))\n",
    "        similarity_scores = sorted(similarity_scores, key=lambda x: x[1], reverse=True)\n",
    "\n",
    "        top_similar = [\n",
    "            product_ids[i] for i, score in similarity_scores[1:top_n+1]  # ilk kendisi olduğu için [1:]\n",
    "        ]\n",
    "\n",
    "        recommendations[product_id] = top_similar\n",
    "\n",
    "    # Tek listede tüm önerilen ürünler (MNS için)\n",
    "    recommended_items_flat = [item for sublist in recommendations.values() for item in sublist]\n",
    "\n",
    "    return recommendations, recommended_items_flat\n",
    "\n",
    "\n",
    "# Dinamik MNS hesaplama\n",
    "def calculate_mns(recommendations, popularity_scores):\n",
    "    import numpy as np\n",
    "\n",
    "    novelty_scores = []\n",
    "\n",
    "    for user_id, recommended_items in recommendations.items():\n",
    "        user_novelty = []\n",
    "        for item in recommended_items:\n",
    "            if item in popularity_scores:\n",
    "                novelty = 1 / (popularity_scores[item] + 1)  # Popülerlik 0 olursa hata oluşmasın diye +1\n",
    "                user_novelty.append(novelty)\n",
    "        if user_novelty:\n",
    "            novelty_scores.append(np.mean(user_novelty))\n",
    "\n",
    "    return np.mean(novelty_scores) if novelty_scores else 0.0\n",
    "\n",
    "# Popülerlik skorlarını türet\n",
    "# Popülerlik skorlarını türet\n",
    "popularity_scores = generate_popularity_scores(df_sampled, product_col=\"urun_id\")\n",
    "\n",
    "# Önerileri oluştur\n",
    "recommendations, _ = generate_recommendations_and_products(similarity_matrix, df_sampled, top_n=5)\n",
    "\n",
    "# MNS hesapla\n",
    "mns_score = calculate_mns(recommendations, popularity_scores)\n",
    "print(f\"MNS Değeri: {mns_score:.4f}\")\n"
   ]
  },
  {
   "cell_type": "code",
   "execution_count": 23,
   "id": "b2e5f97d",
   "metadata": {},
   "outputs": [
    {
     "name": "stdout",
     "output_type": "stream",
     "text": [
      "MDS Değeri: 0.3301\n"
     ]
    }
   ],
   "source": [
    "def calculate_mds(recommendations, similarity_matrix, product_indices):\n",
    "\n",
    "    import numpy as np\n",
    "\n",
    "    diversity_scores = []\n",
    "\n",
    "    for user_id, recommended_items in recommendations.items():\n",
    "        diversity = []\n",
    "        for i, item1 in enumerate(recommended_items):\n",
    "            for j, item2 in enumerate(recommended_items):\n",
    "                if i < j:  # Çiftleri sadece bir kere hesapla\n",
    "                    idx1 = product_indices.get(item1)\n",
    "                    idx2 = product_indices.get(item2)\n",
    "                    if idx1 is not None and idx2 is not None:\n",
    "                        # Benzerlik değerini al ve 1 - benzerlik ile çeşitlilik hesapla\n",
    "                        diversity.append(1 - similarity_matrix[idx1, idx2])\n",
    "        if diversity:\n",
    "            diversity_scores.append(np.mean(diversity))\n",
    "\n",
    "    return np.mean(diversity_scores) if diversity_scores else 0.0\n",
    "\n",
    "# Ürün ID'lerini indekslere eşleyen sözlük oluştur\n",
    "product_indices = {product_id: idx for idx, product_id in enumerate(df_sampled[\"urun_id\"])}\n",
    "\n",
    "# MDS hesaplama\n",
    "mds_score = calculate_mds(recommendations, similarity_matrix, product_indices)\n",
    "\n",
    "# Sonucu yazdır\n",
    "print(f\"MDS Değeri: {mds_score:.4f}\")\n"
   ]
  },
  {
   "cell_type": "code",
   "execution_count": 24,
   "id": "d7139a33",
   "metadata": {},
   "outputs": [
    {
     "name": "stdout",
     "output_type": "stream",
     "text": [
      "MPS Değeri: 0.9988\n"
     ]
    }
   ],
   "source": [
    "def calculate_mps(similarity_matrix, product_ids, top_n=5):\n",
    "\n",
    "    import numpy as np\n",
    "\n",
    "    # Öneriler oluşturma\n",
    "    recommendations = {}\n",
    "    for idx, product_id in enumerate(product_ids):\n",
    "        similar_indices = similarity_matrix[idx].argsort()[::-1][1:top_n+1]\n",
    "        recommendations[product_id] = [product_ids[i] for i in similar_indices]\n",
    "\n",
    "    # Kullanıcılar arası çeşitlilik hesaplama\n",
    "    user_pairs_diversity = []\n",
    "    product_keys = list(recommendations.keys())\n",
    "\n",
    "    for i, user1 in enumerate(product_keys):\n",
    "        for j, user2 in enumerate(product_keys):\n",
    "            if i < j:  # Her kullanıcı çiftini sadece bir kez değerlendir\n",
    "                items_user1 = set(recommendations[user1])\n",
    "                items_user2 = set(recommendations[user2])\n",
    "\n",
    "                # Öneri listelerinin farklılık oranını hesapla\n",
    "                diversity = 1 - (len(items_user1.intersection(items_user2)) / len(items_user1.union(items_user2)))\n",
    "                user_pairs_diversity.append(diversity)\n",
    "\n",
    "    # Ortalama çeşitlilik (MPS)\n",
    "    return np.mean(user_pairs_diversity) if user_pairs_diversity else 0.0\n",
    "\n",
    "# Ürün ID'lerini liste olarak al\n",
    "product_ids = df_sampled[\"urun_id\"].tolist()\n",
    "\n",
    "# MPS hesaplama\n",
    "mps_score = calculate_mps(similarity_matrix, product_ids, top_n=5)\n",
    "\n",
    "# Sonucu yazdır\n",
    "print(f\"MPS Değeri: {mps_score:.4f}\")\n"
   ]
  },
  {
   "cell_type": "code",
   "execution_count": 25,
   "id": "c86d734c",
   "metadata": {},
   "outputs": [],
   "source": [
    "import pickle\n",
    "\n",
    "# Tüm metrikleri tek bir sözlükte topla\n",
    "contant_based_results = {\n",
    "    \"MAP\": map_score,\n",
    "    \"CC\": cc_score,\n",
    "    \"MNS\": mns_score,\n",
    "    \"MDS\": mds_score,\n",
    "    \"MPS\": mps_score\n",
    "}\n",
    "\n",
    "# Tek bir dosyaya kaydet\n",
    "with open(\"contant_based_sonuclari.pkl\", \"wb\") as f:\n",
    "    pickle.dump(contant_based_results, f)\n"
   ]
  },
  {
   "cell_type": "code",
   "execution_count": null,
   "id": "8754b828",
   "metadata": {},
   "outputs": [],
   "source": []
  }
 ],
 "metadata": {
  "kernelspec": {
   "display_name": "Python 3 (ipykernel)",
   "language": "python",
   "name": "python3"
  },
  "language_info": {
   "codemirror_mode": {
    "name": "ipython",
    "version": 3
   },
   "file_extension": ".py",
   "mimetype": "text/x-python",
   "name": "python",
   "nbconvert_exporter": "python",
   "pygments_lexer": "ipython3",
   "version": "3.11.5"
  }
 },
 "nbformat": 4,
 "nbformat_minor": 5
}
