{
 "cells": [
  {
   "cell_type": "code",
   "execution_count": 1,
   "id": "50b92ea9",
   "metadata": {},
   "outputs": [
    {
     "name": "stdout",
     "output_type": "stream",
     "text": [
      "Veri Setindeki İlk 5 Satır:\n",
      "    uye_id  urun_id           eklenme_tarihi  puan   event_type\n",
      "0        0    72176  2024-08-05 05:43:02.000     1         view\n",
      "1        0    67714  2024-08-05 05:45:51.000     5     purchase\n",
      "2        0    66060  2024-08-05 05:53:56.000     4  add_to_cart\n",
      "3  1659156    60388  2024-08-05 06:01:07.000     1         view\n",
      "4        0    41669  2024-08-05 06:04:45.000     5     purchase\n",
      "\n",
      "\n"
     ]
    }
   ],
   "source": [
    "import pandas as pd\n",
    "from sklearn.model_selection import train_test_split\n",
    "\n",
    "# 1. Veriyi pkl dosyasından yükle\n",
    "file_path = 'hazirlanmis_etkilesim.pkl'\n",
    "data = pd.read_pickle(file_path)\n",
    "\n",
    "# İlk birkaç satırı görüntüle\n",
    "print(\"Veri Setindeki İlk 5 Satır:\")\n",
    "print(data.head())\n",
    "\n",
    "print(\"\\n\")"
   ]
  },
  {
   "cell_type": "code",
   "execution_count": 2,
   "id": "3bd747bb",
   "metadata": {},
   "outputs": [],
   "source": [
    "data.columns = [\"uye_id\", \"urun_id\", \"eklenme_tarihi\", \"puan\",\"event_type\"]\n",
    "data[\"eklenme_tarihi\"] = pd.to_datetime(data[\"eklenme_tarihi\"])\n",
    "\n",
    "# Eğitim ve Test veri setini oluşturma (zaman sırasına göre ayırma)\n",
    "data = data.sort_values(\"eklenme_tarihi\")\n",
    "train_size = int(len(data) * 0.8)\n",
    "train_data = data.iloc[:train_size]\n",
    "test_data = data.iloc[train_size:]"
   ]
  },
  {
   "cell_type": "code",
   "execution_count": 3,
   "id": "62c9d83c",
   "metadata": {},
   "outputs": [
    {
     "name": "stdout",
     "output_type": "stream",
     "text": [
      "Eğitim veri seti boyutu: (149420, 5)\n",
      "Test veri seti boyutu: (37355, 5)\n"
     ]
    }
   ],
   "source": [
    "# Eğitim ve test veri setlerinin boyutlarını kontrol etme\n",
    "print(f\"Eğitim veri seti boyutu: {train_data.shape}\")\n",
    "print(f\"Test veri seti boyutu: {test_data.shape}\")\n"
   ]
  },
  {
   "cell_type": "code",
   "execution_count": 4,
   "id": "975cf72b",
   "metadata": {},
   "outputs": [],
   "source": [
    "from sklearn.metrics.pairwise import cosine_similarity\n",
    "import numpy as np\n",
    "\n",
    "# Kullanıcı-Ürün matrisini oluşturma\n",
    "user_item_matrix = train_data.pivot_table(index=\"uye_id\", columns=\"urun_id\", values=\"puan\", fill_value=0)\n",
    "\n",
    "# Ürün benzerlik matrisi (Kosinüs Benzerliği)\n",
    "item_similarity = cosine_similarity(user_item_matrix.T)\n",
    "item_similarity_df = pd.DataFrame(item_similarity, index=user_item_matrix.columns, columns=user_item_matrix.columns)\n",
    "\n",
    "# Tahmin yapma\n",
    "def predict_item_based(user_id, item_id, user_item_matrix, item_similarity_df):\n",
    "    if item_id not in item_similarity_df.index or user_id not in user_item_matrix.index:\n",
    "        return np.nan  # Ürün veya kullanıcı eksikse NaN döner\n",
    "    similar_items = item_similarity_df[item_id].sort_values(ascending=False)\n",
    "    similar_items = similar_items.drop(item_id, errors='ignore')  # Kendini hariç tut\n",
    "    user_ratings = user_item_matrix.loc[user_id]\n",
    "    relevant_ratings = user_ratings[similar_items.index]\n",
    "    predicted_score = np.dot(similar_items.values, relevant_ratings.values) / (similar_items.sum() + 1e-9)\n",
    "    return predicted_score\n"
   ]
  },
  {
   "cell_type": "code",
   "execution_count": 5,
   "id": "c313aaea",
   "metadata": {},
   "outputs": [
    {
     "name": "stdout",
     "output_type": "stream",
     "text": [
      "Mean Number of Suggestions (MNS): 5.0000\n"
     ]
    }
   ],
   "source": [
    "# MNS (Mean Number of Suggestions) hesaplama fonksiyonu\n",
    "def calculate_mns(test_data, user_item_matrix, item_similarity_df, top_n=5):\n",
    "    total_suggestions = 0  # Toplam öneri sayısı\n",
    "    user_count = 0  # Kullanıcı sayısı\n",
    "    \n",
    "    for user_id in test_data[\"uye_id\"].unique():\n",
    "        if user_id not in user_item_matrix.index:\n",
    "            continue  # Kullanıcının eğitim setinde olmaması durumunda atla\n",
    "        \n",
    "        # Kullanıcı için tahmin edilen Top-N ürünleri hesapla\n",
    "        user_ratings = user_item_matrix.loc[user_id]\n",
    "        scores = np.dot(item_similarity_df.values, user_ratings.values)\n",
    "        item_scores = pd.Series(scores, index=item_similarity_df.index)\n",
    "        \n",
    "        # Tahminleri sırala ve Top-N seç\n",
    "        top_items = item_scores.sort_values(ascending=False).head(top_n)\n",
    "        recommended_items = top_items.index.tolist()\n",
    "        \n",
    "        # Toplam öneri sayısını artır\n",
    "        total_suggestions += len(recommended_items)\n",
    "        user_count += 1\n",
    "    \n",
    "    # Ortalama öneri sayısını hesapla\n",
    "    mns = total_suggestions / user_count if user_count > 0 else 0\n",
    "    return mns\n",
    "\n",
    "# MNS hesaplama\n",
    "mns_score = calculate_mns(test_data, user_item_matrix, item_similarity_df)\n",
    "print(f\"Mean Number of Suggestions (MNS): {mns_score:.4f}\")\n"
   ]
  },
  {
   "cell_type": "code",
   "execution_count": 6,
   "id": "91e0c50a",
   "metadata": {},
   "outputs": [
    {
     "name": "stdout",
     "output_type": "stream",
     "text": [
      "Mean Diversity Score (MDS): 0.7560\n"
     ]
    }
   ],
   "source": [
    "# MDS (Mean Diversity Score) hesaplama fonksiyonu\n",
    "def calculate_mds(test_data, user_item_matrix, item_similarity_df, top_n=5):\n",
    "    diversity_scores = []  # Çeşitlilik skorlarını tutacak liste\n",
    "    \n",
    "    for user_id in test_data[\"uye_id\"].unique():\n",
    "        if user_id not in user_item_matrix.index:\n",
    "            continue  # Kullanıcının eğitim setinde olmaması durumunda atla\n",
    "        \n",
    "        # Kullanıcı için tahmin edilen Top-N ürünleri hesapla\n",
    "        user_ratings = user_item_matrix.loc[user_id]\n",
    "        scores = np.dot(item_similarity_df.values, user_ratings.values)\n",
    "        item_scores = pd.Series(scores, index=item_similarity_df.index)\n",
    "        \n",
    "        # Tahminleri sırala ve Top-N seç\n",
    "        top_items = item_scores.sort_values(ascending=False).head(top_n)\n",
    "        recommended_items = top_items.index.tolist()\n",
    "        \n",
    "        # Önerilen ürünlerin birbirine benzerlik skorlarını hesapla\n",
    "        pairwise_diversity = []\n",
    "        for i, item1 in enumerate(recommended_items):\n",
    "            for j, item2 in enumerate(recommended_items):\n",
    "                if i != j:\n",
    "                    pairwise_diversity.append(1 - item_similarity_df.loc[item1, item2])\n",
    "        \n",
    "        # Çeşitlilik skorunun ortalamasını hesapla\n",
    "        if pairwise_diversity:\n",
    "            diversity_scores.append(np.mean(pairwise_diversity))\n",
    "    \n",
    "    # Ortalama Çeşitlilik Skoru\n",
    "    mds = np.mean(diversity_scores) if diversity_scores else 0\n",
    "    return mds\n",
    "\n",
    "# MDS hesaplama\n",
    "mds_score = calculate_mds(test_data, user_item_matrix, item_similarity_df)\n",
    "print(f\"Mean Diversity Score (MDS): {mds_score:.4f}\")\n"
   ]
  },
  {
   "cell_type": "code",
   "execution_count": 7,
   "id": "3e4a2c7e",
   "metadata": {},
   "outputs": [
    {
     "name": "stdout",
     "output_type": "stream",
     "text": [
      "Mean Popularity Score (MPS): 0.2367\n"
     ]
    }
   ],
   "source": [
    "# MPS (Mean Popularity Score) hesaplama fonksiyonu\n",
    "def calculate_mps(test_data, train_data, user_item_matrix, item_similarity_df, top_n=5):\n",
    "    # Eğitim setinden ürün popülerlik skorlarını hesapla\n",
    "    item_popularity = train_data.groupby(\"urun_id\").size()  # Her ürünün seçilme sıklığını al\n",
    "    max_popularity = item_popularity.max()  # Normalizasyon için en yüksek popülerlik değeri\n",
    "    \n",
    "    popularity_scores = []  # Popülerlik skorlarını tutacak liste\n",
    "    \n",
    "    for user_id in test_data[\"uye_id\"].unique():\n",
    "        if user_id not in user_item_matrix.index:\n",
    "            continue  # Kullanıcının eğitim setinde olmaması durumunda atla\n",
    "        \n",
    "        # Kullanıcı için tahmin edilen Top-N ürünleri hesapla\n",
    "        user_ratings = user_item_matrix.loc[user_id]\n",
    "        scores = np.dot(item_similarity_df.values, user_ratings.values)\n",
    "        item_scores = pd.Series(scores, index=item_similarity_df.index)\n",
    "        \n",
    "        # Tahminleri sırala ve Top-N seç\n",
    "        top_items = item_scores.sort_values(ascending=False).head(top_n)\n",
    "        recommended_items = top_items.index.tolist()\n",
    "        \n",
    "        # Önerilen ürünlerin popülerlik skorlarını hesapla\n",
    "        for item_id in recommended_items:\n",
    "            popularity_score = item_popularity.get(item_id, 0) / max_popularity  # Normalizasyon\n",
    "            popularity_scores.append(popularity_score)\n",
    "    \n",
    "    # Ortalama Popülerlik Skoru\n",
    "    mps = np.mean(popularity_scores) if popularity_scores else 0\n",
    "    return mps\n",
    "\n",
    "# MPS hesaplama\n",
    "mps_score = calculate_mps(test_data, train_data, user_item_matrix, item_similarity_df)\n",
    "print(f\"Mean Popularity Score (MPS): {mps_score:.4f}\")\n"
   ]
  },
  {
   "cell_type": "code",
   "execution_count": 8,
   "id": "d7aac9e0",
   "metadata": {},
   "outputs": [
    {
     "name": "stdout",
     "output_type": "stream",
     "text": [
      "Coverage (CC) Score: 0.2379\n"
     ]
    }
   ],
   "source": [
    "# CC (Coverage) hesaplama fonksiyonu\n",
    "def calculate_cc(test_data, user_item_matrix, item_similarity_df, top_n=5):\n",
    "    all_recommended_items = set()  # Önerilen tüm ürünlerin seti\n",
    "    all_possible_items = set(user_item_matrix.columns)  # Eğitim setindeki tüm ürünler\n",
    "    \n",
    "    for user_id in test_data[\"uye_id\"].unique():\n",
    "        if user_id not in user_item_matrix.index:\n",
    "            continue  # Kullanıcının eğitim setinde olmaması durumunda atla\n",
    "        \n",
    "        # Kullanıcı için tahmin edilen Top-N ürünleri hesapla\n",
    "        user_ratings = user_item_matrix.loc[user_id]\n",
    "        scores = np.dot(item_similarity_df.values, user_ratings.values)\n",
    "        item_scores = pd.Series(scores, index=item_similarity_df.index)\n",
    "        \n",
    "        # Tahminleri sırala ve Top-N seç\n",
    "        top_items = item_scores.sort_values(ascending=False).head(top_n)\n",
    "        recommended_items = top_items.index.tolist()\n",
    "        \n",
    "        # Önerilen ürünleri sete ekle\n",
    "        all_recommended_items.update(recommended_items)\n",
    "    \n",
    "    # Coverage oranını hesapla\n",
    "    coverage = len(all_recommended_items) / len(all_possible_items) if len(all_possible_items) > 0 else 0\n",
    "    return coverage\n",
    "\n",
    "# CC hesaplama\n",
    "cc_score = calculate_cc(test_data, user_item_matrix, item_similarity_df)\n",
    "print(f\"Coverage (CC) Score: {cc_score:.4f}\")\n"
   ]
  },
  {
   "cell_type": "code",
   "execution_count": 9,
   "id": "cc59dbd0",
   "metadata": {},
   "outputs": [
    {
     "name": "stdout",
     "output_type": "stream",
     "text": [
      "Mean Average Precision (MAP): 0.4279\n"
     ]
    }
   ],
   "source": [
    "# MAP (Mean Average Precision) hesaplama fonksiyonu\n",
    "def calculate_map(test_data, user_item_matrix, item_similarity_df, top_n=5):\n",
    "    average_precisions = []  # Her kullanıcı için Average Precision (AP) değerlerini saklamak için liste\n",
    "    \n",
    "    for user_id in test_data[\"uye_id\"].unique():\n",
    "        if user_id not in user_item_matrix.index:\n",
    "            continue  # Kullanıcının eğitim setinde olmaması durumunda atla\n",
    "        \n",
    "        # Test verisindeki kullanıcının gerçek beğendiği ürünler\n",
    "        user_test_data = test_data[test_data[\"uye_id\"] == user_id]\n",
    "        relevant_items = user_test_data[\"urun_id\"].tolist()\n",
    "        \n",
    "        # Kullanıcı için tahmin edilen Top-N ürünleri hesapla\n",
    "        user_ratings = user_item_matrix.loc[user_id]\n",
    "        scores = np.dot(item_similarity_df.values, user_ratings.values)\n",
    "        item_scores = pd.Series(scores, index=item_similarity_df.index)\n",
    "        \n",
    "        # Tahminleri sırala ve Top-N seç\n",
    "        top_items = item_scores.sort_values(ascending=False).head(top_n)\n",
    "        recommended_items = top_items.index.tolist()\n",
    "        \n",
    "        # Average Precision hesapla\n",
    "        hits = 0\n",
    "        precision_at_k = []\n",
    "        for k, item in enumerate(recommended_items, start=1):\n",
    "            if item in relevant_items:\n",
    "                hits += 1\n",
    "                precision_at_k.append(hits / k)\n",
    "        \n",
    "        # AP değeri\n",
    "        if precision_at_k:\n",
    "            average_precisions.append(np.mean(precision_at_k))\n",
    "        else:\n",
    "            average_precisions.append(0)\n",
    "    \n",
    "    # MAP değerini hesapla\n",
    "    map_score = np.mean(average_precisions) if average_precisions else 0\n",
    "    return map_score\n",
    "\n",
    "# MAP hesaplama\n",
    "map_score = calculate_map(test_data, user_item_matrix, item_similarity_df)\n",
    "print(f\"Mean Average Precision (MAP): {map_score:.4f}\")\n"
   ]
  },
  {
   "cell_type": "code",
   "execution_count": 10,
   "id": "4a0c83d3",
   "metadata": {},
   "outputs": [],
   "source": [
    "import pickle\n",
    "\n",
    "# Tüm metrikleri tek bir sözlükte topla\n",
    "item_based_results = {\n",
    "    \"MAP\": map_score,\n",
    "    \"CC\": cc_score,\n",
    "    \"MNS\": mns_score,\n",
    "    \"MDS\": mds_score,\n",
    "    \"MPS\": mps_score\n",
    "}\n",
    "\n",
    "# Tek bir dosyaya kaydet\n",
    "with open(\"item_based_sonuclari.pkl\", \"wb\") as f:\n",
    "    pickle.dump(item_based_results, f)\n"
   ]
  },
  {
   "cell_type": "code",
   "execution_count": null,
   "id": "25ab48f9",
   "metadata": {},
   "outputs": [],
   "source": []
  }
 ],
 "metadata": {
  "kernelspec": {
   "display_name": "Python 3 (ipykernel)",
   "language": "python",
   "name": "python3"
  },
  "language_info": {
   "codemirror_mode": {
    "name": "ipython",
    "version": 3
   },
   "file_extension": ".py",
   "mimetype": "text/x-python",
   "name": "python",
   "nbconvert_exporter": "python",
   "pygments_lexer": "ipython3",
   "version": "3.11.5"
  }
 },
 "nbformat": 4,
 "nbformat_minor": 5
}
